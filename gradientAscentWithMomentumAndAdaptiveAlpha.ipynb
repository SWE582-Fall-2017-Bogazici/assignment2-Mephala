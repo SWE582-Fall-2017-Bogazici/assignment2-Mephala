{
 "cells": [
  {
   "cell_type": "code",
   "execution_count": 11,
   "metadata": {},
   "outputs": [
    {
     "name": "stdout",
     "output_type": "stream",
     "text": [
      "Total err after  2000  epoch; eta: 5.7e-07  , beta: 0.812  , initial momentum: 0  ==> 1.2537703422\n",
      "Final variables: [  1.99406253e+00   9.67105693e-01  -4.88812634e-02   1.36041457e-03]\n"
     ]
    }
   ],
   "source": [
    "%matplotlib inline\n",
    "import matplotlib.pylab as plt\n",
    "\n",
    "import time\n",
    "from IPython import display\n",
    "import numpy as np\n",
    "\n",
    "\n",
    "#y = np.array([7.46, 6.77, 12.74, 7.11, 7.81, 8.84, 6.08, 5.39, 8.15, 6.42, 5.73])\n",
    "y = np.array([8.04, 6.95, 7.58, 8.81, 8.33, 9.96, 7.24, 4.26, 10.84, 4.82, 5.68])\n",
    "#y = np.array([9.14, 8.14, 8.74, 8.77, 9.26, 8.10, 6.13, 3.10, 9.13, 7.26, 4.74])\n",
    "x = np.array([10., 8., 13., 9., 11., 14., 6., 4., 12., 7., 5.])\n",
    "N = len(x)\n",
    "\n",
    "# Design matrix\n",
    "A = np.vstack((np.ones(N),x,x**2, x**3)).T\n",
    "\n",
    "# Learning rate\n",
    "\n",
    "eta = 0.00000057\n",
    "beta = 0.812\n",
    "initialMomentum = 0\n",
    "momentum = initialMomentum; #init\n",
    "              \n",
    "# initial parameters\n",
    "w = np.array([2., 1.,0.1,0.001])\n",
    "EPOCH = 2000\n",
    "\n",
    "for epoch in range(EPOCH):\n",
    "    # Error\n",
    "    err = y-A.dot(w)\n",
    "    \n",
    "    # Total error\n",
    "    E = np.sum(err**2)/N\n",
    "    \n",
    "    # Gradient\n",
    "    dE = -2.*A.T.dot(err)/N\n",
    "    \n",
    "    #if epoch%1 == 0: \n",
    "        #print(epoch,':',E)\n",
    "        # print(w)    \n",
    " \n",
    "    momentum = dE + (beta*momentum);\n",
    "    # Perfom one descent step\n",
    "    #w = w - eta*dE\n",
    "    w = w - eta*momentum;\n",
    "E = np.sum(err**2)/N\n",
    "print(\"Total err after \" ,EPOCH, \" epoch; eta:\", eta, \" , beta:\" , beta, \" , initial momentum:\",initialMomentum ,\" ==>\", E)\n",
    "print(\"Final variables:\",w)"
   ]
  },
  {
   "cell_type": "code",
   "execution_count": null,
   "metadata": {
    "collapsed": true
   },
   "outputs": [],
   "source": []
  }
 ],
 "metadata": {
  "kernelspec": {
   "display_name": "Python 3",
   "language": "python",
   "name": "python3"
  },
  "language_info": {
   "codemirror_mode": {
    "name": "ipython",
    "version": 3
   },
   "file_extension": ".py",
   "mimetype": "text/x-python",
   "name": "python",
   "nbconvert_exporter": "python",
   "pygments_lexer": "ipython3",
   "version": "3.6.1"
  }
 },
 "nbformat": 4,
 "nbformat_minor": 2
}
